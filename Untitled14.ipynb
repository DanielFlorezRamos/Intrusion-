{
  "nbformat": 4,
  "nbformat_minor": 0,
  "metadata": {
    "colab": {
      "provenance": [],
      "authorship_tag": "ABX9TyNrBxsMfjA/HHdQ1CCm9st6",
      "include_colab_link": true
    },
    "kernelspec": {
      "name": "python3",
      "display_name": "Python 3"
    },
    "language_info": {
      "name": "python"
    }
  },
  "cells": [
    {
      "cell_type": "markdown",
      "metadata": {
        "id": "view-in-github",
        "colab_type": "text"
      },
      "source": [
        "<a href=\"https://colab.research.google.com/github/DanielFlorezRamos/Intrusion-/blob/main/Untitled14.ipynb\" target=\"_parent\"><img src=\"https://colab.research.google.com/assets/colab-badge.svg\" alt=\"Open In Colab\"/></a>"
      ]
    },
    {
      "cell_type": "code",
      "execution_count": null,
      "metadata": {
        "id": "ARsUhKwvY_Ac"
      },
      "outputs": [],
      "source": [
        "\n",
        "import random\n",
        "titulo = ['queridos ', 'apreciados ', 'distinguidos ', 'honorables ', 'estimados ', 'respetados ']\n",
        "publico = ['compatiotas', 'compatriotas', 'amigos', 'coterraneos', 'conciudadanos', 'electores']\n",
        "condicion = ['en mi gobierno', '', '', '', '', '']\n",
        "compromiso = ['', '', '', '', '', '']\n",
        "lucha = ['', '', '', '', '', '']\n",
        "promesa = ['', '', '', '', '', '']\n",
        "beneficio = ['', '', '', '', '', '']\n",
        "lugar = ['', '', '', '', '', '']\n",
        "palabras_dsc = [titulo, publico, condicion, compromiso, lucha, promesa, beneficio]\n",
        "\n",
        "my_data = {}\n",
        "my_data['titulo'] = titulo\n",
        "my_data['publico'] = publico\n",
        "my_data['condicion'] = condicion\n",
        "my_data['compromiso'] = compromiso\n",
        "my_data['lucha'] = lucha\n",
        "my_data['promesa'] = promesa\n",
        "my_data['beneficios'] = beneficio\n",
        "\n",
        "def generador_discurso(my_data)\n",
        "import random\n",
        "code = ''\n",
        "for key in my_data.keys():\n",
        " code += str(random.choice(my_data[key]))\n",
        "print(code)"
      ]
    }
  ]
}