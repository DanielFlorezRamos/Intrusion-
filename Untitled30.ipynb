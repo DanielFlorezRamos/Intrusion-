{
  "nbformat": 4,
  "nbformat_minor": 0,
  "metadata": {
    "colab": {
      "provenance": [],
      "authorship_tag": "ABX9TyMM1FhHRVU8QquMMM0ByY+T",
      "include_colab_link": true
    },
    "kernelspec": {
      "name": "python3",
      "display_name": "Python 3"
    },
    "language_info": {
      "name": "python"
    }
  },
  "cells": [
    {
      "cell_type": "markdown",
      "metadata": {
        "id": "view-in-github",
        "colab_type": "text"
      },
      "source": [
        "<a href=\"https://colab.research.google.com/github/DanielFlorezRamos/Intrusion-/blob/main/Untitled30.ipynb\" target=\"_parent\"><img src=\"https://colab.research.google.com/assets/colab-badge.svg\" alt=\"Open In Colab\"/></a>"
      ]
    },
    {
      "cell_type": "code",
      "execution_count": 5,
      "metadata": {
        "colab": {
          "base_uri": "https://localhost:8080/"
        },
        "id": "jxIlUWjmAupN",
        "outputId": "af0b6ec6-6ba2-4961-857b-8d84eb9b1057"
      },
      "outputs": [
        {
          "output_type": "stream",
          "name": "stdout",
          "text": [
            "int64\n",
            "(14,)\n",
            "[2006, 2007, 2007, 2006, 2000, 2008, 2006, 2007, 2001, 2005, 2007, 2005, 2008, 2009]\n"
          ]
        }
      ],
      "source": [
        "import numpy as np\n",
        "\n",
        "edades = [18, 17, 17, 18, 24, 16, 18, 17, 23, 19, 17, 19, 16, 15]\n",
        "edades_array = np.array(edades)\n",
        "#print(edades)\n",
        "#print(edades_array)\n",
        "#print(edades_array.dtype)\n",
        "#print(edades_array.shape)\n",
        "\n",
        "#birth_year = []\n",
        "#for edad in edades:\n",
        "#  birth_year.append(2024 - edad)\n",
        "#print(birth_year)\n",
        "\n",
        "\n",
        "#birth_year_"
      ]
    },
    {
      "cell_type": "code",
      "source": [
        "n = np.array(([1, 2, 3],\n",
        "              [4, 5, 6],\n",
        "              [7, 8, 9],\n",
        "              [0, 0, 0]))\n",
        "#print(n)\n",
        "#print(n.shape)\n",
        "\n",
        "#print(n[0])\n",
        "#print(n[0][0])\n",
        "#print(n[1:3])\n",
        "#print(n[:3])\n",
        "#print(n[2:1])\n",
        "\n",
        "#print(n[2, 1])\n",
        "#la segunda colucna\n",
        "#print(n[:, 1])\n",
        "#la segunda fila\n",
        "#print(n[1, :])\n"
      ],
      "metadata": {
        "colab": {
          "base_uri": "https://localhost:8080/"
        },
        "id": "X3xPJD1DGFzA",
        "outputId": "61e565a4-a36e-4b04-adcf-4010370dcf7a"
      },
      "execution_count": 19,
      "outputs": [
        {
          "output_type": "stream",
          "name": "stdout",
          "text": [
            "8\n",
            "[2 5 8 0]\n",
            "[4 5 6]\n"
          ]
        }
      ]
    },
    {
      "cell_type": "code",
      "source": [
        "edades = [18, 17, 17, 18, 24, 16, 18, 17, 23, 19, 17, 19, 16, 15]\n",
        "edades_array = np.array(edades)\n",
        "\n",
        "#mayor_de_edades = edades_array >= 18\n",
        "edades_pares = edades_array[edades_array % 2 == 0]\n",
        "edades_5 = edades_array\n",
        "print(edades_pares)"
      ],
      "metadata": {
        "colab": {
          "base_uri": "https://localhost:8080/"
        },
        "id": "BxsGGDldIToO",
        "outputId": "a8023e19-56bf-4725-d87b-790219cdd1f6"
      },
      "execution_count": 24,
      "outputs": [
        {
          "output_type": "stream",
          "name": "stdout",
          "text": [
            "[18 18 24 16 18 16]\n"
          ]
        }
      ]
    },
    {
      "cell_type": "code",
      "source": [
        "[[2,    0.75,   2    1,   0.5]\n",
        " [1,    0.125,  1,   1,   0.125]\n",
        " [2.75, 1.5,    1,   0,   1]\n",
        " [4,    0.5,    2,   2,   0.5]]\n"
      ],
      "metadata": {
        "id": "jC2nPdFCJYWI"
      },
      "execution_count": null,
      "outputs": []
    },
    {
      "cell_type": "code",
      "source": [
        "n_10 = np.arange(10)\n",
        "print(n)\n",
        "n_5_20_3 = np.arange(5, 20, 3)\n",
        "print(n_5_20_3)\n",
        "\n",
        "t = np.linspace(0, 2*np.pi, num=20)\n",
        "print(t)"
      ],
      "metadata": {
        "colab": {
          "base_uri": "https://localhost:8080/"
        },
        "id": "pS1jgoLSMb2w",
        "outputId": "b48daa63-27bb-432d-9c3a-0a64a64a97dd"
      },
      "execution_count": 29,
      "outputs": [
        {
          "output_type": "stream",
          "name": "stdout",
          "text": [
            "[[1 2 3]\n",
            " [4 5 6]\n",
            " [7 8 9]\n",
            " [0 0 0]]\n",
            "[ 5  8 11 14 17]\n",
            "[0.         0.33069396 0.66138793 0.99208189 1.32277585 1.65346982\n",
            " 1.98416378 2.31485774 2.64555171 2.97624567 3.30693964 3.6376336\n",
            " 3.96832756 4.29902153 4.62971549 4.96040945 5.29110342 5.62179738\n",
            " 5.95249134 6.28318531]\n"
          ]
        }
      ]
    },
    {
      "cell_type": "code",
      "source": [
        "n = np.arange(0, 101)\n",
        "print(n)\n",
        "print(n.sum())"
      ],
      "metadata": {
        "colab": {
          "base_uri": "https://localhost:8080/"
        },
        "id": "VRzHtQt8RKtn",
        "outputId": "c8cdce44-d05b-43f5-f371-a31749b906cd"
      },
      "execution_count": 32,
      "outputs": [
        {
          "output_type": "stream",
          "name": "stdout",
          "text": [
            "[  0   1   2   3   4   5   6   7   8   9  10  11  12  13  14  15  16  17\n",
            "  18  19  20  21  22  23  24  25  26  27  28  29  30  31  32  33  34  35\n",
            "  36  37  38  39  40  41  42  43  44  45  46  47  48  49  50  51  52  53\n",
            "  54  55  56  57  58  59  60  61  62  63  64  65  66  67  68  69  70  71\n",
            "  72  73  74  75  76  77  78  79  80  81  82  83  84  85  86  87  88  89\n",
            "  90  91  92  93  94  95  96  97  98  99 100]\n",
            "5050\n"
          ]
        }
      ]
    },
    {
      "cell_type": "code",
      "source": [
        "from sklearn.metrics import mean_squared_error\n",
        "\n",
        "y_true = [1, 3, 5, 7, 9]\n",
        "y_pred = [2, 4, 5, 8, 10]\n",
        "\n",
        "mse = mean_squared_error(y_true, y_pred)\n",
        "print(\"Mean Squared Error:\", mse)\n"
      ],
      "metadata": {
        "colab": {
          "base_uri": "https://localhost:8080/"
        },
        "id": "JBwPx2kdVvbM",
        "outputId": "bb072357-dec2-48a4-8b2a-2aa75617e6d4"
      },
      "execution_count": 33,
      "outputs": [
        {
          "output_type": "stream",
          "name": "stdout",
          "text": [
            "Mean Squared Error: 0.8\n"
          ]
        }
      ]
    }
  ]
}